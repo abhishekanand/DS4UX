{
 "cells": [
  {
   "cell_type": "markdown",
   "metadata": {},
   "source": [
    "# Getting the most edited shows that will end in 2016"
   ]
  },
  {
   "cell_type": "code",
   "execution_count": 35,
   "metadata": {
    "collapsed": true
   },
   "outputs": [],
   "source": [
    "import operator\n",
    "import requests\n",
    "import json"
   ]
  },
  {
   "cell_type": "code",
   "execution_count": 36,
   "metadata": {
    "collapsed": true
   },
   "outputs": [],
   "source": [
    "# show_titles = [\n",
    "#     \"Unforgettable_(2011_TV_series)\", \n",
    "#     \"Angel_from_Hell\",\n",
    "#     \"Austin_&_Ally\", \n",
    "#     \"Lab_Rats_(U.S._TV_series)\", \n",
    "#     \"Melissa_Harris-Perry_(TV_series)\", \n",
    "#     \"Gravity_Falls\", \n",
    "#     \"MythBusters\", \n",
    "#     \"Of_Kings_and_Prophets\", \n",
    "#     \"American_Idol\",\n",
    "#     \"Togetherness_(TV_series)\", \n",
    "#     \"Childrens_Hospital\", \n",
    "#     \"Monopoly_Millionaires'_Club_(U.S._game_show)\", \n",
    "#     \"The_Good_Wife\", \n",
    "#     \"Mike_&_Molly\",\n",
    "#     \"Banshee_(TV_series)\", \n",
    "#     \"Littlest_Pet_Shop_(2012_TV_series)\", \n",
    "#     \"The_Soul_Man\", \n",
    "#     \"Person_of_Interest_(TV_series)\", \n",
    "#     \"Wander_Over_Yonder\",\n",
    "#     \"Beauty_&_the_Beast_(2012_TV_series)\", \n",
    "#     \"Crazy_Talk_(TV_series)\", \n",
    "#     \"FABLife\", \n",
    "#     \"The_Meredith_Vieira_Show\", \n",
    "#     \"The_Leftovers_(TV_series)\"\n",
    "# ]\n",
    "\n",
    "show_titles = [\n",
    "    \"Beauty_&_the_Beast_(2012_TV_series)\", \n",
    "    \"Crazy_Talk_(TV_series)\", \n",
    "    \"FABLife\", \n",
    "    \"The_Meredith_Vieira_Show\", \n",
    "    \"The_Leftovers_(TV_series)\"\n",
    "]"
   ]
  },
  {
   "cell_type": "markdown",
   "metadata": {},
   "source": [
    "## Challenge overview"
   ]
  },
  {
   "cell_type": "markdown",
   "metadata": {},
   "source": [
    "1. Create a CSV file that contains a list of all the Wikipedia articles for shows that are ending this year, and how many revisions have been made to each article.\n",
    "2. Which of the shows that are being cancelled this year have been edited the most? Which ones have been edited the least?"
   ]
  },
  {
   "cell_type": "markdown",
   "metadata": {},
   "source": [
    "This challenge *can* be accomplished without any functions at all, just using some combination of (nested) 'for' loops, while loops, etc. \n",
    "\n",
    "However, using functions helps us avoid writing the same commands over and over again, and keeps our code well organized. Today we'll walk through how to design a Python script that uses functions to solve this challenge."
   ]
  },
  {
   "cell_type": "markdown",
   "metadata": {},
   "source": [
    "## Step 0. Outlining what our code will do"
   ]
  },
  {
   "cell_type": "markdown",
   "metadata": {},
   "source": [
    "A good way to start any complex coding project is to write an outline of what needs to be done, using notes and/or pseudocode."
   ]
  },
  {
   "cell_type": "code",
   "execution_count": null,
   "metadata": {
    "collapsed": true
   },
   "outputs": [],
   "source": [
    "#STEP 1\n",
    "#create a new, empty dictionary to hold our per-show counts. \n",
    "#As we query the API for revisions for each show, we will add those to this dict,\n",
    "#like {'showname1':2302, 'showname2':435,...}\n",
    "\n",
    "#STEP 2\n",
    "#loop through the list of shows and query the API to count how many revisions each has\n",
    "#add the total revs and the show name to the dict we made in STEP 1\n",
    "\n",
    "#STEP 3\n",
    "#Create a CSV file the contains rows for every show, and the number of revisions it has\n",
    "\n",
    "#STEP 4\n",
    "#Find out which of the shows has the most revisions\n",
    "\n",
    "#STEP 5\n",
    "#Find out which of the shows has the fewest revisions"
   ]
  },
  {
   "cell_type": "markdown",
   "metadata": {},
   "source": [
    "Outlining your coding challenge (or final project) this way will help you stay on track and avoid getting stuck—even if you *don't* use functions! But it's especially helpful if you are going to use functions, because when you break the task down into steps like this, it helps you identify discrete sets of operations that naturally 'go together'."
   ]
  },
  {
   "cell_type": "markdown",
   "metadata": {},
   "source": [
    "## Step 1. Write an API query function"
   ]
  },
  {
   "cell_type": "markdown",
   "metadata": {},
   "source": [
    "Step 2 involves making a series of API queries using almost exactly the same parameters—the only thing that changes is the title of the show we're asking for revisions for. \n",
    "\n",
    "Your main method (which I cover in the next step) will show what code is being executed, and in what order. But most of execution (the for loops, while loops, and if statements) will happen elsewhere—inside *functions*.\n",
    "\n",
    "This sounds like a perfect opportunity to write a function. Let's plan it out. Again, using notes/pseudocode first."
   ]
  },
  {
   "cell_type": "markdown",
   "metadata": {},
   "source": [
    "#### Function 1 outline"
   ]
  },
  {
   "cell_type": "code",
   "execution_count": 34,
   "metadata": {
    "collapsed": true
   },
   "outputs": [],
   "source": [
    "# define the function for getting revisions (pass it a single show title):\n",
    "    #parameters = {some parameters go here}\n",
    "    #endpoint = a url\n",
    "    #revisions = 0 \n",
    "    #while True:\n",
    "        #query the api\n",
    "        #save the JSON result as a dictionary\n",
    "        #count the revisions in the dictionary\n",
    "        #add that count to our variable 'revisions'\n",
    "        #if there are more revisions to get, do another API call\n",
    "    #save the final count somewhere, associated with the title\n",
    "    #send the result somewhere"
   ]
  },
  {
   "cell_type": "markdown",
   "metadata": {},
   "source": [
    "If you follow all the steps above for every show in the list, you will have collected all the data you need for analysis. Here's what a final version of this function might look like."
   ]
  },
  {
   "cell_type": "markdown",
   "metadata": {},
   "source": [
    "#### Function 1 code"
   ]
  },
  {
   "cell_type": "code",
   "execution_count": 37,
   "metadata": {
    "collapsed": true
   },
   "outputs": [],
   "source": [
    "def getRevisions(show_title):\n",
    "    \"\"\"\n",
    "    Input: receives a string (Wikipedia page title)\n",
    "    Output: returns a dict with the title and the number of revisions\n",
    "    \"\"\"\n",
    "    ENDPOINT = 'https://en.wikipedia.org/w/api.php'\n",
    "\n",
    "    parameters = {'action' : 'query',\n",
    "        'prop' : 'revisions', \n",
    "        'titles' : show_title,\n",
    "        'rvlimit' : 500,\n",
    "        'rvprop' : \"ids\", \n",
    "        'format' : 'json',\n",
    "        'continue' : ''\n",
    "    }\n",
    "\n",
    "    revisions = 0\n",
    "    while True:\n",
    "        wp_call = requests.get(ENDPOINT, params=parameters)\n",
    "        response = wp_call.json()\n",
    "        pages = response['query']['pages']\n",
    "        for page_id in pages:\n",
    "            page = pages[page_id]\n",
    "            page_revs = page['revisions']\n",
    "            for rev in page_revs:\n",
    "                revisions += 1\n",
    "        if 'continue' in response:\n",
    "            parameters.update(response['continue'])\n",
    "        else:\n",
    "            break\n",
    "    result = {}\n",
    "    result[show_title] = revisions\n",
    "#   print(result)\n",
    "    print(\"Found %d revisions for %s\" % (revisions, show_title))\n",
    "    return result"
   ]
  },
  {
   "cell_type": "markdown",
   "metadata": {},
   "source": [
    "## Step 2. Create a Main method\n",
    "\n",
    "By the 'main' method, I mean the part of the script that controls *what happens* and *in what order it happens*. Before today, our whole scripts have essentially been the 'main' method, because we have been ordering everything sequentially—we start executing at the top of the script, and we finish at the bottom.\n",
    "\n",
    "But when you are writing complex operations in your code (e.g. lots of for loops, while loops, and if statements), it quickly becomes hard to read. And it becomes even harder to get a 'birds eye view' of what the code is doing.\n",
    "\n",
    "Your main method is where you *execute* the code that is inside the *functions*. \n",
    "\n",
    "Your main method is usually placed at the bottom of the file, even though it is the first part of the Python file that is run (other than any import statements).\n",
    "\n",
    "That's why the functions have to be above the main method: when Python sees a function call in the main method, it checks against the functions that it has seen so far. It's really the same situation as with `show_titles`: Python can't execute any operations against the contents of `show_titles` unless it has seen that list *before* it is asked to do something with it."
   ]
  },
  {
   "cell_type": "code",
   "execution_count": 38,
   "metadata": {
    "collapsed": false
   },
   "outputs": [
    {
     "name": "stdout",
     "output_type": "stream",
     "text": [
      "Found 1260 revisions for Beauty_&_the_Beast_(2012_TV_series)\n",
      "Found 47 revisions for Crazy_Talk_(TV_series)\n",
      "Found 95 revisions for FABLife\n",
      "Found 78 revisions for The_Meredith_Vieira_Show\n",
      "Found 668 revisions for The_Leftovers_(TV_series)\n",
      "{'The_Meredith_Vieira_Show': 78, 'The_Leftovers_(TV_series)': 668, 'Beauty_&_the_Beast_(2012_TV_series)': 1260, 'FABLife': 95, 'Crazy_Talk_(TV_series)': 47}\n"
     ]
    }
   ],
   "source": [
    "#anatomy of a typical script with functions\n",
    "\n",
    "#import statements go here\n",
    "\n",
    "#global variables (like show_titles) go here\n",
    "\n",
    "#functions go here\n",
    "\n",
    "###MAIN METHOD STARTS HERE###\n",
    "shows = {}\n",
    "for t in show_titles:\n",
    "    show = getRevisions(t)\n",
    "    shows.update(show)\n",
    "print(shows)"
   ]
  },
  {
   "cell_type": "markdown",
   "metadata": {},
   "source": [
    "## Step 3: Make a CSV printing function"
   ]
  },
  {
   "cell_type": "markdown",
   "metadata": {},
   "source": [
    "Now we have written one function. As you can see, it makes it somewhat easier to see what's happening at a high level (especially since we gave our function a descriptive name). But it might not be clear yet why we went through the extra trouble of making a function for this, rather than just using a for loop.\n",
    "\n",
    "For our next step, we will write a function that takes the dict we just created, shows_2016, and output it to a CSV file."
   ]
  },
  {
   "cell_type": "markdown",
   "metadata": {},
   "source": [
    "#### Function 2 outline"
   ]
  },
  {
   "cell_type": "code",
   "execution_count": null,
   "metadata": {
    "collapsed": true
   },
   "outputs": [],
   "source": [
    "#take in a dictionary with show names and revision counts as key/value pairs\n",
    "#create a new CSV file with column headers and a line for each show\n",
    "#name the output file something useful\n",
    "#save the output file"
   ]
  },
  {
   "cell_type": "markdown",
   "metadata": {},
   "source": [
    "#### Function 2 code"
   ]
  },
  {
   "cell_type": "code",
   "execution_count": 39,
   "metadata": {
    "collapsed": true
   },
   "outputs": [],
   "source": [
    "def saveResults(show_dict, fname):\n",
    "    \"\"\"\n",
    "    Input: takes a dictionary of show titles and revision counts, and a filename\n",
    "    Output: creates a CSV file with the specified filename, containing the titles and counts\n",
    "    \"\"\"\n",
    "    fout = open(fname, \"w\")\n",
    "    fout.write(\"title,revisions\\n\")\n",
    "    for skey, sval in show_dict.items():\n",
    "        fout.write(skey + \",\" + str(sval) + \"\\n\")\n",
    "    fout.close()"
   ]
  },
  {
   "cell_type": "markdown",
   "metadata": {},
   "source": [
    "This function is a bit different from the last one. First, it takes two variables, rather than one. Second, it doesn't return anything. That's because in this case, it doesn't need to: its job is to take input from Main and then save that input to a file on your hard drive or server.\n",
    "\n",
    "Here's what our Main method looks like once we've implemented this new function:"
   ]
  },
  {
   "cell_type": "code",
   "execution_count": 40,
   "metadata": {
    "collapsed": false
   },
   "outputs": [
    {
     "name": "stdout",
     "output_type": "stream",
     "text": [
      "Found 1260 revisions for Beauty_&_the_Beast_(2012_TV_series)\n",
      "Found 47 revisions for Crazy_Talk_(TV_series)\n",
      "Found 95 revisions for FABLife\n",
      "Found 78 revisions for The_Meredith_Vieira_Show\n",
      "Found 668 revisions for The_Leftovers_(TV_series)\n"
     ]
    }
   ],
   "source": [
    "###MAIN METHOD STARTS HERE###\n",
    "shows = {}\n",
    "for t in show_titles:\n",
    "    show = getRevisions(t)\n",
    "    shows.update(show)\n",
    "\n",
    "#new function call\n",
    "saveResults(shows, \"tv_show_2016.csv\")"
   ]
  },
  {
   "cell_type": "markdown",
   "metadata": {},
   "source": [
    "Things to notice:\n",
    "- we didn't have to assign a variable to capture the results of this funciton (like we did above with 'shows', because this function didn't return any results—it just makes a file.\n",
    "- the names of the variables we passed as parameters are different in the function call than they are in the function declaration. In fact, in one case we just passed a string, not a variable at all. "
   ]
  },
  {
   "cell_type": "markdown",
   "metadata": {},
   "source": [
    "## Steps 4-5: getting min and max values"
   ]
  },
  {
   "cell_type": "markdown",
   "metadata": {},
   "source": [
    "Now that we've saved our results in a dictionary (shows_2016) and as a CSV file (tv_show_2016.csv) there are at least three ways we could always find out the min/max values:\n",
    "1. by opening that file in Microsoft Excel or another spreadsheet program, and sorting by the second column. \n",
    "2. by looping through our dictionary and comparing each rev count against the largest one we've seen so far, then doing the same thing looking for the smallest count.\n",
    "3. by creating sorted lists out of our dictionary data and picking the first/last value in the list\n",
    "\n",
    "All of these solutions are fine, but #3 is probably the quickest. "
   ]
  },
  {
   "cell_type": "code",
   "execution_count": 41,
   "metadata": {
    "collapsed": false
   },
   "outputs": [
    {
     "name": "stdout",
     "output_type": "stream",
     "text": [
      "Found 1260 revisions for Beauty_&_the_Beast_(2012_TV_series)\n",
      "Found 47 revisions for Crazy_Talk_(TV_series)\n",
      "Found 95 revisions for FABLife\n",
      "Found 78 revisions for The_Meredith_Vieira_Show\n",
      "Found 668 revisions for The_Leftovers_(TV_series)\n",
      "Beauty_&_the_Beast_(2012_TV_series) has the most (1260) revisions in the dataset\n",
      "Crazy_Talk_(TV_series) has the fewest (47) revisions in the dataset\n"
     ]
    }
   ],
   "source": [
    "###MAIN METHOD STARTS HERE###\n",
    "shows = {}\n",
    "for t in show_titles:\n",
    "    show = getRevisions(t)\n",
    "    shows.update(show)\n",
    "\n",
    "#new function call\n",
    "saveResults(shows, \"tv_show_2016.csv\")\n",
    "\n",
    "#make a sorted version of our dictionary, with the most-edited show first\n",
    "shows_sorted_max = sorted(shows.items(), key=operator.itemgetter(1), reverse = True)\n",
    "max_rev = shows_sorted_max[0]\n",
    "print(\"%s has the most (%d) revisions in the dataset\" % (max_rev[0], max_rev[1]))\n",
    "\n",
    "#make a sorted version of our dictionary, with the least-edited show first\n",
    "shows_sorted_min = sorted(shows_2016.items(), key=operator.itemgetter(1), reverse = False)\n",
    "min_rev = shows_sorted_min[0]\n",
    "print(\"%s has the fewest (%d) revisions in the dataset\" % (min_rev[0], min_rev[1]))"
   ]
  },
  {
   "cell_type": "markdown",
   "metadata": {},
   "source": [
    "Now we've accomplished our task and we can all hang up our coding gloves and go home. Right?"
   ]
  },
  {
   "cell_type": "markdown",
   "metadata": {},
   "source": [
    "### Not so fast"
   ]
  },
  {
   "cell_type": "markdown",
   "metadata": {},
   "source": [
    "This solution is reasonably clear and succinct. But it's not very extensible. For example:\n",
    "- what if we have another list of shows (let's call it show_titles_2015), and we want to perform the same operations on that list of shows as well?\n",
    "- what if we wanted to be able to arbitrarily find the largest or smallest item in ANY list of dicts that contains strings for keys and numbers for values (even if they're not movies?)\n",
    "\n",
    "If we want to do any of this, or if we think we might want to do it in the future, without having to re-write all this code, let's take a look at our code for finding the min/max value, and see if we can make it shorter and more abstract by using a function."
   ]
  },
  {
   "cell_type": "markdown",
   "metadata": {},
   "source": [
    "#### Function 3 outline"
   ]
  },
  {
   "cell_type": "code",
   "execution_count": 28,
   "metadata": {
    "collapsed": true
   },
   "outputs": [],
   "source": [
    "#take in a dictionary and instructions on how to sort it (lowest-highest, highest-lowest)\n",
    "#make a sorted version of it\n",
    "#return the highest/lowest value"
   ]
  },
  {
   "cell_type": "markdown",
   "metadata": {},
   "source": [
    "#### Function 3 code"
   ]
  },
  {
   "cell_type": "code",
   "execution_count": 42,
   "metadata": {
    "collapsed": true
   },
   "outputs": [],
   "source": [
    "def findExtremeValue(show_dict, max=True):\n",
    "    \"\"\"\n",
    "    Input: \n",
    "        * a dictionary with strings for keys and numbers for values\n",
    "        * a flag for whether to return item with max or min number (max is default)\n",
    "    Output: returns the item with the max (or min) value in the dictionary\n",
    "    \"\"\"\n",
    "    shows_sorted = sorted(show_dict.items(), key=operator.itemgetter(1), reverse = max)\n",
    "    return shows_sorted[0]"
   ]
  },
  {
   "cell_type": "markdown",
   "metadata": {},
   "source": [
    "This function is very short. But that's okay. Functions can be very short—how much a particular function *does* is up to you. Many programmers are fond of short functions, because they make the code very modular and abstract. \n",
    "\n",
    "How long should your functions be? A good rule of thumb is to try to make each function do only *one thing*... of course what constitutes \"one thing\" is up to you. Ultimately, the best way to figure out how much a single function should do is to experiment.\n",
    "\n",
    "Here's what our Main method looks like once we've implemented this new function:"
   ]
  },
  {
   "cell_type": "code",
   "execution_count": 43,
   "metadata": {
    "collapsed": false
   },
   "outputs": [
    {
     "name": "stdout",
     "output_type": "stream",
     "text": [
      "Found 1260 revisions for Beauty_&_the_Beast_(2012_TV_series)\n",
      "Found 47 revisions for Crazy_Talk_(TV_series)\n",
      "Found 95 revisions for FABLife\n",
      "Found 78 revisions for The_Meredith_Vieira_Show\n",
      "Found 668 revisions for The_Leftovers_(TV_series)\n",
      "Beauty_&_the_Beast_(2012_TV_series) has the most (1260) revisions in the dataset\n",
      "Crazy_Talk_(TV_series) has the fewest (47) revisions in the dataset\n"
     ]
    }
   ],
   "source": [
    "###MAIN METHOD STARTS HERE###\n",
    "shows = {}\n",
    "for t in show_titles:\n",
    "    show = getRevisions(t)\n",
    "    shows.update(show)\n",
    "\n",
    "saveResults(shows, \"tv_show_2016.csv\")\n",
    "\n",
    "#new function call - get max\n",
    "max_rev = findExtremeValue(shows, max=True)\n",
    "print(\"%s has the most (%d) revisions in the dataset\" % (max_rev[0], max_rev[1]))\n",
    "\n",
    "#new function call - get min\n",
    "min_rev = findExtremeValue(shows, max=False)\n",
    "print(\"%s has the fewest (%d) revisions in the dataset\" % (min_rev[0], min_rev[1]))"
   ]
  },
  {
   "cell_type": "markdown",
   "metadata": {},
   "source": [
    "### The final piece: `if __name__ == \"__main__\":`"
   ]
  },
  {
   "cell_type": "markdown",
   "metadata": {},
   "source": [
    "The code we've written so far is much clearer, better organized, and easier to update than our first version. But there's one more (optional) thing that we can do to make full use of the functions we've created: add `if __name__ == \"__main__\":` at the top of our main method (which until we've been designating with an all-caps comment string).\n",
    "\n",
    "Note that when we use `if __name__ == \"__main__\":`, we have to indent all of our 'main' stuff under it, just like we would for a function. That's because the main method *is* a function (method and function are roughly interchangable words in Python, like library and module). By using `if __name__ == \"__main__\":`, we're making the functional nature of 'main' explicit.\n",
    "\n",
    "Using `if __name__ == \"__main__\":` also allows us to use our script as a module and use the functions we've created in other scripts (or in the terminal) by *importing* our script into that environment, and passing values to whatever function we want.\n",
    "\n",
    "We will demonstrate this in TextWrangler using the script `week8/wiki_shows3.py`, but I will paste what the main method of that script looks like below, for clarity."
   ]
  },
  {
   "cell_type": "code",
   "execution_count": null,
   "metadata": {
    "collapsed": true
   },
   "outputs": [],
   "source": [
    "###MAIN METHOD IS BELOW###\n",
    "if __name__ == \"__main__\":\n",
    "    shows = {}\n",
    "    for t in show_titles:\n",
    "        show = getRevisions(t)\n",
    "        shows.update(show)\n",
    "\n",
    "    saveResults(shows, \"tv_show_2016.csv\")\n",
    "\n",
    "    max_rev = findExtremeValue(shows, max=True)\n",
    "    print(\"%s has the most (%d) revisions in the dataset\" % (max_rev[0], max_rev[1]))\n",
    "\n",
    "    min_rev = findExtremeValue(shows, max=False)\n",
    "    print(\"%s has the fewest (%d) revisions in the dataset\" % (min_rev[0], min_rev[1]))"
   ]
  }
 ],
 "metadata": {
  "kernelspec": {
   "display_name": "Python 3",
   "language": "python",
   "name": "python3"
  },
  "language_info": {
   "codemirror_mode": {
    "name": "ipython",
    "version": 3
   },
   "file_extension": ".py",
   "mimetype": "text/x-python",
   "name": "python",
   "nbconvert_exporter": "python",
   "pygments_lexer": "ipython3",
   "version": "3.4.2"
  },
  "widgets": {
   "state": {},
   "version": "1.1.0"
  }
 },
 "nbformat": 4,
 "nbformat_minor": 0
}
