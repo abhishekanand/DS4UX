{
 "cells": [
  {
   "cell_type": "markdown",
   "metadata": {},
   "source": [
    "# Week 8: new concepts"
   ]
  },
  {
   "cell_type": "markdown",
   "metadata": {},
   "source": [
    "## `try` and `except` statements"
   ]
  },
  {
   "cell_type": "markdown",
   "metadata": {},
   "source": [
    "`try` and `except` are a construct that allows you to attempt to perform an operation, but keep going if it fails (causes an error).\n",
    "\n",
    "The most common use of `try` and `except` for our kind of work is when you are looping through a dataset and trying to grab, test for, and/or perform an operation on each of the items in the dataset—BUT you don't know what you're trying to do will work for every item. \n",
    "\n",
    "For example take the list below."
   ]
  },
  {
   "cell_type": "code",
   "execution_count": 12,
   "metadata": {
    "collapsed": true
   },
   "outputs": [],
   "source": [
    "my_list = [1,15,42,\"panda\", 432, 7]"
   ]
  },
  {
   "cell_type": "markdown",
   "metadata": {},
   "source": [
    "Let's say that you wanted to divide everything in this list by itself, using a for loop:"
   ]
  },
  {
   "cell_type": "code",
   "execution_count": 13,
   "metadata": {
    "collapsed": false
   },
   "outputs": [
    {
     "name": "stdout",
     "output_type": "stream",
     "text": [
      "1.0\n",
      "1.0\n",
      "1.0\n"
     ]
    },
    {
     "ename": "TypeError",
     "evalue": "unsupported operand type(s) for /: 'str' and 'str'",
     "output_type": "error",
     "traceback": [
      "\u001b[1;31m\u001b[0m",
      "\u001b[1;31mTypeError\u001b[0mTraceback (most recent call last)",
      "\u001b[1;32m<ipython-input-13-9487e8ced1f3>\u001b[0m in \u001b[0;36m<module>\u001b[1;34m()\u001b[0m\n\u001b[0;32m      1\u001b[0m \u001b[1;32mfor\u001b[0m \u001b[0mitem\u001b[0m \u001b[1;32min\u001b[0m \u001b[0mmy_list\u001b[0m\u001b[1;33m:\u001b[0m\u001b[1;33m\u001b[0m\u001b[0m\n\u001b[1;32m----> 2\u001b[1;33m     \u001b[0mprint\u001b[0m\u001b[1;33m(\u001b[0m\u001b[0mitem\u001b[0m\u001b[1;33m/\u001b[0m\u001b[0mitem\u001b[0m\u001b[1;33m)\u001b[0m\u001b[1;33m\u001b[0m\u001b[0m\n\u001b[0m",
      "\u001b[1;31mTypeError\u001b[0m: unsupported operand type(s) for /: 'str' and 'str'"
     ]
    }
   ],
   "source": [
    "for item in my_list:\n",
    "    print(item/item)"
   ]
  },
  {
   "cell_type": "markdown",
   "metadata": {},
   "source": [
    "One way to avoid this error is to put a `type` check in your code before you print, and only print the item if `type == int`. But another way to do this, if you want to ignore any list items that aren't numbers and still print out all the numbers in the list divided by two, is to use `try` and `except`."
   ]
  },
  {
   "cell_type": "code",
   "execution_count": 14,
   "metadata": {
    "collapsed": false
   },
   "outputs": [
    {
     "name": "stdout",
     "output_type": "stream",
     "text": [
      "1.0\n",
      "1.0\n",
      "1.0\n",
      "1.0\n",
      "1.0\n"
     ]
    }
   ],
   "source": [
    "for item in my_list:\n",
    "    try:\n",
    "        print(item/item)\n",
    "    except TypeError:\n",
    "        continue"
   ]
  },
  {
   "cell_type": "markdown",
   "metadata": {},
   "source": [
    "Note that if you specify the type of error, Python will only ignore (\"suppress\") those kinds of errors. That means that if your code encounters a different type of error, it will still break."
   ]
  },
  {
   "cell_type": "code",
   "execution_count": 15,
   "metadata": {
    "collapsed": false
   },
   "outputs": [
    {
     "name": "stdout",
     "output_type": "stream",
     "text": [
      "1.0\n",
      "1.0\n",
      "1.0\n"
     ]
    },
    {
     "ename": "ZeroDivisionError",
     "evalue": "division by zero",
     "output_type": "error",
     "traceback": [
      "\u001b[1;31m\u001b[0m",
      "\u001b[1;31mZeroDivisionError\u001b[0mTraceback (most recent call last)",
      "\u001b[1;32m<ipython-input-15-3ebc1f4bebdc>\u001b[0m in \u001b[0;36m<module>\u001b[1;34m()\u001b[0m\n\u001b[0;32m      4\u001b[0m \u001b[1;32mfor\u001b[0m \u001b[0mitem\u001b[0m \u001b[1;32min\u001b[0m \u001b[0mmy_list\u001b[0m\u001b[1;33m:\u001b[0m\u001b[1;33m\u001b[0m\u001b[0m\n\u001b[0;32m      5\u001b[0m     \u001b[1;32mtry\u001b[0m\u001b[1;33m:\u001b[0m\u001b[1;33m\u001b[0m\u001b[0m\n\u001b[1;32m----> 6\u001b[1;33m         \u001b[0mprint\u001b[0m\u001b[1;33m(\u001b[0m\u001b[0mitem\u001b[0m\u001b[1;33m/\u001b[0m\u001b[0mitem\u001b[0m\u001b[1;33m)\u001b[0m\u001b[1;33m\u001b[0m\u001b[0m\n\u001b[0m\u001b[0;32m      7\u001b[0m     \u001b[1;32mexcept\u001b[0m \u001b[0mTypeError\u001b[0m\u001b[1;33m:\u001b[0m\u001b[1;33m\u001b[0m\u001b[0m\n\u001b[0;32m      8\u001b[0m         \u001b[1;32mcontinue\u001b[0m\u001b[1;33m\u001b[0m\u001b[0m\n",
      "\u001b[1;31mZeroDivisionError\u001b[0m: division by zero"
     ]
    }
   ],
   "source": [
    "my_list.insert(4, 0)\n",
    "# my_list = [1,15,42,\"panda\", 0, 432, 7]\n",
    "\n",
    "for item in my_list:\n",
    "    try:\n",
    "        print(item/item)\n",
    "    except TypeError:\n",
    "        continue"
   ]
  },
  {
   "cell_type": "markdown",
   "metadata": {},
   "source": [
    "To handle this, you have two options.\n",
    "1. if you know all of the kinds of errors you are likely to encounter, you can put them all in the except statement, using the syntax shown below.\n",
    "2. if you want to ignore ALL kinds of errors, you can just use a bare `except`."
   ]
  },
  {
   "cell_type": "code",
   "execution_count": 17,
   "metadata": {
    "collapsed": false
   },
   "outputs": [
    {
     "name": "stdout",
     "output_type": "stream",
     "text": [
      "1.0\n",
      "1.0\n",
      "1.0\n",
      "1.0\n",
      "1.0\n",
      "1.0\n",
      "1.0\n",
      "1.0\n",
      "1.0\n",
      "1.0\n"
     ]
    }
   ],
   "source": [
    "#solution 1\n",
    "for item in my_list:\n",
    "    try:\n",
    "        print(item/item)\n",
    "    except (TypeError, ZeroDivisionError) as e:\n",
    "        continue\n",
    "        \n",
    "#solution 2\n",
    "for item in my_list:\n",
    "    try:\n",
    "        print(item/item)\n",
    "    except:\n",
    "        continue"
   ]
  },
  {
   "cell_type": "markdown",
   "metadata": {},
   "source": [
    "## `sleep()` function"
   ]
  },
  {
   "cell_type": "markdown",
   "metadata": {},
   "source": [
    "As you've seen by now, code runs very fast! If you want your code to 'take a break' and pause for a while at any point during the execution of your script, use the `sleep()` function from the `time` module."
   ]
  },
  {
   "cell_type": "code",
   "execution_count": 19,
   "metadata": {
    "collapsed": false
   },
   "outputs": [
    {
     "name": "stdout",
     "output_type": "stream",
     "text": [
      "John\n",
      "Terry J.\n",
      "Terry G.\n",
      "Michael\n",
      "Eric\n",
      "Graham\n"
     ]
    }
   ],
   "source": [
    "import time\n",
    "pythonistas = [\"John\", \"Terry J.\", \"Terry G.\", \"Michael\", \"Eric\", \"Graham\"]\n",
    "\n",
    "for p in pythonistas:\n",
    "    #print one name, then wait two seconds before starting the next loop\n",
    "    print(p)\n",
    "    time.sleep(2)"
   ]
  },
  {
   "cell_type": "markdown",
   "metadata": {},
   "source": [
    "`sleep()` is useful for many things. You'll probably use it most in one of two scenarios:\n",
    "1. you are using an API that imposes a *rate limit* on you, meaning that you can only make a certain number of API calls per second. \n",
    "2. you want to print output to the terminal more slowly, so that you can monitor what your code is doing while it runs."
   ]
  },
  {
   "cell_type": "markdown",
   "metadata": {},
   "source": [
    "## Parsing `datetime` objects"
   ]
  },
  {
   "cell_type": "markdown",
   "metadata": {},
   "source": [
    "We'll import the libraries we want to use to parse our datetime objects. \n",
    "\n",
    "The first is called `dateutil`, and you can read more about it here: http://dateutil.readthedocs.io/en/stable/ \n",
    "\n",
    "The second is just called `datetime`, and you can read more about it here: https://pymotw.com/2/datetime/\n"
   ]
  },
  {
   "cell_type": "code",
   "execution_count": 20,
   "metadata": {
    "collapsed": true
   },
   "outputs": [],
   "source": [
    "from datetime import datetime\n",
    "from dateutil import parser\n",
    "import requests"
   ]
  },
  {
   "cell_type": "markdown",
   "metadata": {},
   "source": [
    "`Dateutil` and `datetime` modules both do a lot of useful stuff. But in this case, we don't need all of 'dateutil', just the part called 'parser', and we only need `datetime` class from `datetime`. "
   ]
  },
  {
   "cell_type": "code",
   "execution_count": 26,
   "metadata": {
    "collapsed": true
   },
   "outputs": [],
   "source": [
    "api_call = requests.get(\"https://en.wikipedia.org/w/api.php?action=query&format=json&prop=revisions&list=&meta=&titles=Panama_Papers&rvprop=ids%7Ctimestamp%7Cflags%7Ccomment%7Cuser&rvlimit=10&rvdir=newer\")\n",
    "response = api_call.json()"
   ]
  },
  {
   "cell_type": "code",
   "execution_count": 55,
   "metadata": {
    "collapsed": false
   },
   "outputs": [
    {
     "name": "stdout",
     "output_type": "stream",
     "text": [
      "2016-04-03T17:59:05Z\n",
      "<class 'str'>\n",
      "2016-04-03 17:59:05+00:00\n",
      "<class 'datetime.datetime'>\n",
      "\n",
      "\n",
      "2016-04-03T18:00:17Z\n",
      "<class 'str'>\n",
      "2016-04-03 18:00:17+00:00\n",
      "<class 'datetime.datetime'>\n",
      "\n",
      "\n",
      "2016-04-03T18:08:04Z\n",
      "<class 'str'>\n",
      "2016-04-03 18:08:04+00:00\n",
      "<class 'datetime.datetime'>\n",
      "\n",
      "\n",
      "2016-04-03T18:10:42Z\n",
      "<class 'str'>\n",
      "2016-04-03 18:10:42+00:00\n",
      "<class 'datetime.datetime'>\n",
      "\n",
      "\n",
      "2016-04-03T18:13:48Z\n",
      "<class 'str'>\n",
      "2016-04-03 18:13:48+00:00\n",
      "<class 'datetime.datetime'>\n",
      "\n",
      "\n",
      "2016-04-03T18:15:09Z\n",
      "<class 'str'>\n",
      "2016-04-03 18:15:09+00:00\n",
      "<class 'datetime.datetime'>\n",
      "\n",
      "\n",
      "2016-04-03T18:20:07Z\n",
      "<class 'str'>\n",
      "2016-04-03 18:20:07+00:00\n",
      "<class 'datetime.datetime'>\n",
      "\n",
      "\n",
      "2016-04-03T18:31:40Z\n",
      "<class 'str'>\n",
      "2016-04-03 18:31:40+00:00\n",
      "<class 'datetime.datetime'>\n",
      "\n",
      "\n",
      "2016-04-03T18:35:18Z\n",
      "<class 'str'>\n",
      "2016-04-03 18:35:18+00:00\n",
      "<class 'datetime.datetime'>\n",
      "\n",
      "\n",
      "2016-04-03T18:37:06Z\n",
      "<class 'str'>\n",
      "2016-04-03 18:37:06+00:00\n",
      "<class 'datetime.datetime'>\n",
      "\n",
      "\n"
     ]
    }
   ],
   "source": [
    "for r in response['query']['pages']['50034356']['revisions']:\n",
    "    print(r['timestamp'])\n",
    "    print(type(r['timestamp']))\n",
    "    parsed_timestamp = parser.parse(r['timestamp'])\n",
    "    print(parsed_timestamp)\n",
    "    print(type(parsed_timestamp))\n",
    "    print(\"\\n\")"
   ]
  },
  {
   "cell_type": "markdown",
   "metadata": {},
   "source": [
    "When you print the parsed timestamps individually, they look pretty much the same as the strings, but you can see that they're a different type of object. When you put them in a list and then print the list, you can see their true nature."
   ]
  },
  {
   "cell_type": "code",
   "execution_count": 51,
   "metadata": {
    "collapsed": false
   },
   "outputs": [
    {
     "name": "stdout",
     "output_type": "stream",
     "text": [
      "[datetime.datetime(2016, 4, 3, 17, 59, 5, tzinfo=tzlocal()), datetime.datetime(2016, 4, 3, 18, 0, 17, tzinfo=tzlocal()), datetime.datetime(2016, 4, 3, 18, 8, 4, tzinfo=tzlocal()), datetime.datetime(2016, 4, 3, 18, 10, 42, tzinfo=tzlocal()), datetime.datetime(2016, 4, 3, 18, 13, 48, tzinfo=tzlocal()), datetime.datetime(2016, 4, 3, 18, 15, 9, tzinfo=tzlocal()), datetime.datetime(2016, 4, 3, 18, 20, 7, tzinfo=tzlocal()), datetime.datetime(2016, 4, 3, 18, 31, 40, tzinfo=tzlocal()), datetime.datetime(2016, 4, 3, 18, 35, 18, tzinfo=tzlocal()), datetime.datetime(2016, 4, 3, 18, 37, 6, tzinfo=tzlocal())]\n"
     ]
    }
   ],
   "source": [
    "datetime_list = []\n",
    "\n",
    "for r in response['query']['pages']['50034356']['revisions']:\n",
    "    parsed_timestamp = parser.parse(r['timestamp'])\n",
    "    datetime_list.append(parsed_timestamp)\n",
    "\n",
    "print(datetime_list)"
   ]
  },
  {
   "cell_type": "markdown",
   "metadata": {},
   "source": [
    "### Getting individual date/time parts from `datetime` objects\n",
    "`parser` identifies and parses strings that *look like* dates and/or times, and transforms them into `datetime` objects that we can work with easier. It's pretty good at automatically detecting what parts of the string are the month, day, second, etc."
   ]
  },
  {
   "cell_type": "code",
   "execution_count": 31,
   "metadata": {
    "collapsed": false
   },
   "outputs": [
    {
     "name": "stdout",
     "output_type": "stream",
     "text": [
      "2016\n",
      "59\n",
      "2016\n",
      "0\n",
      "2016\n",
      "8\n",
      "2016\n",
      "10\n",
      "2016\n",
      "13\n",
      "2016\n",
      "15\n",
      "2016\n",
      "20\n",
      "2016\n",
      "31\n",
      "2016\n",
      "35\n",
      "2016\n",
      "37\n"
     ]
    }
   ],
   "source": [
    "for dt in datetime_list:\n",
    "    print(dt.year)\n",
    "    print(dt.minute)"
   ]
  },
  {
   "cell_type": "markdown",
   "metadata": {},
   "source": [
    "### Sorting `datetime` objects\n",
    "You can sort `datetime` objects easily, too."
   ]
  },
  {
   "cell_type": "code",
   "execution_count": 52,
   "metadata": {
    "collapsed": false
   },
   "outputs": [
    {
     "name": "stdout",
     "output_type": "stream",
     "text": [
      "original list (default order)\n",
      "2016-04-03 17:59:05+00:00\n",
      "2016-04-03 18:00:17+00:00\n",
      "2016-04-03 18:08:04+00:00\n",
      "2016-04-03 18:10:42+00:00\n",
      "2016-04-03 18:13:48+00:00\n",
      "2016-04-03 18:15:09+00:00\n",
      "2016-04-03 18:20:07+00:00\n",
      "2016-04-03 18:31:40+00:00\n",
      "2016-04-03 18:35:18+00:00\n",
      "2016-04-03 18:37:06+00:00\n",
      "\n",
      "\n",
      "unsorted list\n",
      "2016-04-03 18:37:06+00:00\n",
      "2016-04-03 18:35:18+00:00\n",
      "2016-04-03 17:59:05+00:00\n",
      "2016-04-03 18:13:48+00:00\n",
      "2016-04-03 18:31:40+00:00\n",
      "2016-04-03 18:00:17+00:00\n",
      "2016-04-03 18:15:09+00:00\n",
      "2016-04-03 18:10:42+00:00\n",
      "2016-04-03 18:08:04+00:00\n",
      "2016-04-03 18:20:07+00:00\n",
      "\n",
      "\n",
      "reverse-chronological sorted list\n",
      "2016-04-03 18:37:06+00:00\n",
      "2016-04-03 18:35:18+00:00\n",
      "2016-04-03 18:31:40+00:00\n",
      "2016-04-03 18:20:07+00:00\n",
      "2016-04-03 18:15:09+00:00\n",
      "2016-04-03 18:13:48+00:00\n",
      "2016-04-03 18:10:42+00:00\n",
      "2016-04-03 18:08:04+00:00\n",
      "2016-04-03 18:00:17+00:00\n",
      "2016-04-03 17:59:05+00:00\n",
      "\n",
      "\n",
      "chronological sorted list (back to default)\n",
      "2016-04-03 17:59:05+00:00\n",
      "2016-04-03 18:00:17+00:00\n",
      "2016-04-03 18:08:04+00:00\n",
      "2016-04-03 18:10:42+00:00\n",
      "2016-04-03 18:13:48+00:00\n",
      "2016-04-03 18:15:09+00:00\n",
      "2016-04-03 18:20:07+00:00\n",
      "2016-04-03 18:31:40+00:00\n",
      "2016-04-03 18:35:18+00:00\n",
      "2016-04-03 18:37:06+00:00\n",
      "\n",
      "\n"
     ]
    }
   ],
   "source": [
    "from random import shuffle\n",
    "\n",
    "print(\"original list (default order)\")\n",
    "for d in datetime_list:\n",
    "    print(d)\n",
    "print(\"\\n\")\n",
    "\n",
    "shuffle(datetime_list)\n",
    "print(\"unsorted list\")\n",
    "for d in datetime_list:\n",
    "    print(d)\n",
    "print(\"\\n\")\n",
    "\n",
    "datetime_list.sort(reverse=True)\n",
    "print(\"reverse-chronological sorted list\")\n",
    "for d in datetime_list:\n",
    "    print(d)\n",
    "print(\"\\n\")\n",
    "\n",
    "datetime_list.sort()\n",
    "print(\"chronological sorted list (back to default)\")\n",
    "for d in datetime_list:\n",
    "    print(d)\n",
    "print(\"\\n\")"
   ]
  },
  {
   "cell_type": "markdown",
   "metadata": {},
   "source": [
    "### Converting `datetime` objects back to strings\n",
    "\n",
    "You can use the builtin `strftime` function to convert a datetime object (part of all of it) into a string, formatted in whatever way you choose. See the docs for more information on how to print specific date/time values: https://docs.python.org/2/library/datetime.html#strftime-and-strptime-behavior"
   ]
  },
  {
   "cell_type": "code",
   "execution_count": 39,
   "metadata": {
    "collapsed": false
   },
   "outputs": [
    {
     "name": "stdout",
     "output_type": "stream",
     "text": [
      "04/03/2016 18:15:09 is earlier than 04/03/2016 18:37:06\n",
      "04/03/2016 18:13:48 is earlier than 04/03/2016 18:31:40\n",
      "04/03/2016 17:59:05 is earlier than 04/03/2016 18:20:07\n",
      "04/03/2016 18:35:18 is later than 04/03/2016 18:08:04\n",
      "04/03/2016 18:00:17 is earlier than 04/03/2016 18:10:42\n"
     ]
    }
   ],
   "source": [
    "for i in range(0, len(datetime_list),2):\n",
    "    if datetime_list[i] > datetime_list[i+1]:\n",
    "        print(datetime_list[i].strftime(\"%m/%d/%Y %H:%M:%S\") + \" is later than \" + datetime_list[i+1].strftime(\"%m/%d/%Y %H:%M:%S\"))\n",
    "    else:\n",
    "        print(datetime_list[i].strftime(\"%m/%d/%Y %H:%M:%S\") + \" is earlier than \" + datetime_list[i+1].strftime(\"%m/%d/%Y %H:%M:%S\"))"
   ]
  },
  {
   "cell_type": "markdown",
   "metadata": {},
   "source": [
    "## Writing your own functions"
   ]
  },
  {
   "cell_type": "markdown",
   "metadata": {},
   "source": [
    "Writing your own functions can make your code easier to read, easier to modify, and (sometimes) shorter! Let's take the example from `[52]` above, and re-write it with a function."
   ]
  },
  {
   "cell_type": "code",
   "execution_count": 53,
   "metadata": {
    "collapsed": false
   },
   "outputs": [
    {
     "name": "stdout",
     "output_type": "stream",
     "text": [
      "original list (default order)\n",
      "2016-04-03 17:59:05+00:00\n",
      "2016-04-03 18:00:17+00:00\n",
      "2016-04-03 18:08:04+00:00\n",
      "2016-04-03 18:10:42+00:00\n",
      "2016-04-03 18:13:48+00:00\n",
      "2016-04-03 18:15:09+00:00\n",
      "2016-04-03 18:20:07+00:00\n",
      "2016-04-03 18:31:40+00:00\n",
      "2016-04-03 18:35:18+00:00\n",
      "2016-04-03 18:37:06+00:00\n",
      "\n",
      "\n",
      "unsorted list\n",
      "2016-04-03 18:37:06+00:00\n",
      "2016-04-03 18:10:42+00:00\n",
      "2016-04-03 18:15:09+00:00\n",
      "2016-04-03 17:59:05+00:00\n",
      "2016-04-03 18:35:18+00:00\n",
      "2016-04-03 18:00:17+00:00\n",
      "2016-04-03 18:31:40+00:00\n",
      "2016-04-03 18:20:07+00:00\n",
      "2016-04-03 18:13:48+00:00\n",
      "2016-04-03 18:08:04+00:00\n",
      "\n",
      "\n",
      "reverse-chronological sorted list\n",
      "2016-04-03 18:37:06+00:00\n",
      "2016-04-03 18:35:18+00:00\n",
      "2016-04-03 18:31:40+00:00\n",
      "2016-04-03 18:20:07+00:00\n",
      "2016-04-03 18:15:09+00:00\n",
      "2016-04-03 18:13:48+00:00\n",
      "2016-04-03 18:10:42+00:00\n",
      "2016-04-03 18:08:04+00:00\n",
      "2016-04-03 18:00:17+00:00\n",
      "2016-04-03 17:59:05+00:00\n",
      "\n",
      "\n",
      "chronological sorted list (back to default)\n",
      "2016-04-03 17:59:05+00:00\n",
      "2016-04-03 18:00:17+00:00\n",
      "2016-04-03 18:08:04+00:00\n",
      "2016-04-03 18:10:42+00:00\n",
      "2016-04-03 18:13:48+00:00\n",
      "2016-04-03 18:15:09+00:00\n",
      "2016-04-03 18:20:07+00:00\n",
      "2016-04-03 18:31:40+00:00\n",
      "2016-04-03 18:35:18+00:00\n",
      "2016-04-03 18:37:06+00:00\n",
      "\n",
      "\n"
     ]
    }
   ],
   "source": [
    "from random import shuffle\n",
    "\n",
    "def printList(ordered_list, description):\n",
    "    print(description)\n",
    "    for l in ordered_list:\n",
    "        print(l)\n",
    "    print(\"\\n\")\n",
    "\n",
    "printList(datetime_list,\"original list (default order)\")\n",
    "\n",
    "shuffle(datetime_list)\n",
    "printList(datetime_list,\"unsorted list\")\n",
    "\n",
    "datetime_list.sort(reverse=True)\n",
    "printList(datetime_list,\"reverse-chronological sorted list\")\n",
    "\n",
    "datetime_list.sort()\n",
    "printList(datetime_list,\"chronological sorted list (back to default)\")"
   ]
  }
 ],
 "metadata": {
  "kernelspec": {
   "display_name": "Python 3",
   "language": "python",
   "name": "python3"
  },
  "language_info": {
   "codemirror_mode": {
    "name": "ipython",
    "version": 3
   },
   "file_extension": ".py",
   "mimetype": "text/x-python",
   "name": "python",
   "nbconvert_exporter": "python",
   "pygments_lexer": "ipython3",
   "version": "3.4.2"
  },
  "widgets": {
   "state": {},
   "version": "1.1.0"
  }
 },
 "nbformat": 4,
 "nbformat_minor": 0
}
